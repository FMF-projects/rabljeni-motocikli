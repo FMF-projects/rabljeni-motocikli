{
 "cells": [
  {
   "cell_type": "markdown",
   "metadata": {},
   "source": [
    "# Rabljeni motocikli"
   ]
  },
  {
   "cell_type": "markdown",
   "metadata": {},
   "source": [
    "V nadaljevanju bom analizirala motocikle, ki se prodajajo na http://www.mobile.de. Izbrala sem le oglase rabljenih motociklov, mlajših od 10 let, ter s prostornino večjo od 500ccm."
   ]
  },
  {
   "cell_type": "code",
   "execution_count": 1,
   "metadata": {
    "collapsed": true
   },
   "outputs": [],
   "source": [
    "import pandas as pd"
   ]
  },
  {
   "cell_type": "code",
   "execution_count": 2,
   "metadata": {
    "collapsed": false
   },
   "outputs": [],
   "source": [
    "tabela = pd.read_csv('motocikli.csv', index_col = 'id', encoding = 'latin1')\n",
    "pd.options.display.max_rows = 8"
   ]
  },
  {
   "cell_type": "markdown",
   "metadata": {},
   "source": [
    "### Razlaga zajetih podatkov\n",
    "\n",
    "- letnik: leto prve registracije motocikla, za katero bom privzela, da se ujema z letom izdelave\n",
    "- znamka: ime izdelovalca motocikla\n",
    "- tip: motocikli so na grobo razdeljeni v skupine glede na obliko in namen\n",
    "- prostornina: delovna prostornina pogonskega agregata\n",
    "- moc: moč pogonskega agregata izražena v kW\n",
    "- km: število prevoženih kilometrov\n",
    "- cena: cena motocikla, določena s strani prodajalca v evrih"
   ]
  },
  {
   "cell_type": "code",
   "execution_count": 3,
   "metadata": {
    "collapsed": false
   },
   "outputs": [
    {
     "data": {
      "text/html": [
       "<div>\n",
       "<table border=\"1\" class=\"dataframe\">\n",
       "  <thead>\n",
       "    <tr style=\"text-align: right;\">\n",
       "      <th></th>\n",
       "      <th>letnik</th>\n",
       "      <th>znamka</th>\n",
       "      <th>tip</th>\n",
       "      <th>prostornina</th>\n",
       "      <th>moc</th>\n",
       "      <th>km</th>\n",
       "      <th>cena</th>\n",
       "    </tr>\n",
       "    <tr>\n",
       "      <th>id</th>\n",
       "      <th></th>\n",
       "      <th></th>\n",
       "      <th></th>\n",
       "      <th></th>\n",
       "      <th></th>\n",
       "      <th></th>\n",
       "      <th></th>\n",
       "    </tr>\n",
       "  </thead>\n",
       "  <tbody>\n",
       "    <tr>\n",
       "      <th>234776213</th>\n",
       "      <td>2006</td>\n",
       "      <td>Hyosung</td>\n",
       "      <td>Chopper And Cruiser</td>\n",
       "      <td>650</td>\n",
       "      <td>55</td>\n",
       "      <td>17000</td>\n",
       "      <td>2800</td>\n",
       "    </tr>\n",
       "    <tr>\n",
       "      <th>234776213</th>\n",
       "      <td>2006</td>\n",
       "      <td>Hyosung</td>\n",
       "      <td>Chopper And Cruiser</td>\n",
       "      <td>647</td>\n",
       "      <td>59</td>\n",
       "      <td>3945</td>\n",
       "      <td>2999</td>\n",
       "    </tr>\n",
       "    <tr>\n",
       "      <th>229082730</th>\n",
       "      <td>2006</td>\n",
       "      <td>Yamaha</td>\n",
       "      <td>Chopper And Cruiser</td>\n",
       "      <td>649</td>\n",
       "      <td>29</td>\n",
       "      <td>46987</td>\n",
       "      <td>3499</td>\n",
       "    </tr>\n",
       "    <tr>\n",
       "      <th>235377812</th>\n",
       "      <td>2006</td>\n",
       "      <td>Harley-Davidson</td>\n",
       "      <td>Chopper And Cruiser</td>\n",
       "      <td>1131</td>\n",
       "      <td>86</td>\n",
       "      <td>3900</td>\n",
       "      <td>21490</td>\n",
       "    </tr>\n",
       "    <tr>\n",
       "      <th>...</th>\n",
       "      <td>...</td>\n",
       "      <td>...</td>\n",
       "      <td>...</td>\n",
       "      <td>...</td>\n",
       "      <td>...</td>\n",
       "      <td>...</td>\n",
       "      <td>...</td>\n",
       "    </tr>\n",
       "    <tr>\n",
       "      <th>233263400</th>\n",
       "      <td>2016</td>\n",
       "      <td>Harley-Davidson</td>\n",
       "      <td>Tourer</td>\n",
       "      <td>1802</td>\n",
       "      <td>72</td>\n",
       "      <td>650</td>\n",
       "      <td>38900</td>\n",
       "    </tr>\n",
       "    <tr>\n",
       "      <th>233584627</th>\n",
       "      <td>2016</td>\n",
       "      <td>Harley-Davidson</td>\n",
       "      <td>Tourer</td>\n",
       "      <td>1801</td>\n",
       "      <td>72</td>\n",
       "      <td>800</td>\n",
       "      <td>39999</td>\n",
       "    </tr>\n",
       "    <tr>\n",
       "      <th>233824453</th>\n",
       "      <td>2016</td>\n",
       "      <td>Harley-Davidson</td>\n",
       "      <td>Tourer</td>\n",
       "      <td>1800</td>\n",
       "      <td>72</td>\n",
       "      <td>581</td>\n",
       "      <td>40990</td>\n",
       "    </tr>\n",
       "    <tr>\n",
       "      <th>233824453</th>\n",
       "      <td>2016</td>\n",
       "      <td>Harley-Davidson</td>\n",
       "      <td>Tourer</td>\n",
       "      <td>1690</td>\n",
       "      <td>64</td>\n",
       "      <td>900</td>\n",
       "      <td>59900</td>\n",
       "    </tr>\n",
       "  </tbody>\n",
       "</table>\n",
       "<p>18989 rows × 7 columns</p>\n",
       "</div>"
      ],
      "text/plain": [
       "           letnik           znamka                  tip  prostornina  moc  \\\n",
       "id                                                                          \n",
       "234776213    2006          Hyosung  Chopper And Cruiser          650   55   \n",
       "234776213    2006          Hyosung  Chopper And Cruiser          647   59   \n",
       "229082730    2006           Yamaha  Chopper And Cruiser          649   29   \n",
       "235377812    2006  Harley-Davidson  Chopper And Cruiser         1131   86   \n",
       "...           ...              ...                  ...          ...  ...   \n",
       "233263400    2016  Harley-Davidson               Tourer         1802   72   \n",
       "233584627    2016  Harley-Davidson               Tourer         1801   72   \n",
       "233824453    2016  Harley-Davidson               Tourer         1800   72   \n",
       "233824453    2016  Harley-Davidson               Tourer         1690   64   \n",
       "\n",
       "              km   cena  \n",
       "id                       \n",
       "234776213  17000   2800  \n",
       "234776213   3945   2999  \n",
       "229082730  46987   3499  \n",
       "235377812   3900  21490  \n",
       "...          ...    ...  \n",
       "233263400    650  38900  \n",
       "233584627    800  39999  \n",
       "233824453    581  40990  \n",
       "233824453    900  59900  \n",
       "\n",
       "[18989 rows x 7 columns]"
      ]
     },
     "execution_count": 3,
     "metadata": {},
     "output_type": "execute_result"
    }
   ],
   "source": [
    "motocikli = tabela.dropna(how='any')\n",
    "motocikli"
   ]
  },
  {
   "cell_type": "markdown",
   "metadata": {},
   "source": [
    "Poglejmo najprej nekaj povprečnih rezultatov vseh oglasov."
   ]
  },
  {
   "cell_type": "code",
   "execution_count": 4,
   "metadata": {
    "collapsed": false
   },
   "outputs": [
    {
     "data": {
      "text/plain": [
       "BMW                3249\n",
       "Harley-Davidson    2557\n",
       "Kawasaki           2158\n",
       "Honda              2127\n",
       "                   ... \n",
       "TM                    1\n",
       "SMC                   1\n",
       "Derbi                 1\n",
       "BRP                   1\n",
       "Name: znamka, dtype: int64"
      ]
     },
     "execution_count": 4,
     "metadata": {},
     "output_type": "execute_result"
    }
   ],
   "source": [
    "motocikli['znamka'].value_counts()"
   ]
  },
  {
   "cell_type": "code",
   "execution_count": 5,
   "metadata": {
    "collapsed": false
   },
   "outputs": [
    {
     "data": {
      "text/plain": [
       "2011.354626362631"
      ]
     },
     "execution_count": 5,
     "metadata": {},
     "output_type": "execute_result"
    }
   ],
   "source": [
    "motocikli['letnik'].mean()"
   ]
  },
  {
   "cell_type": "code",
   "execution_count": 6,
   "metadata": {
    "collapsed": false
   },
   "outputs": [
    {
     "data": {
      "text/plain": [
       "15809.517931433988"
      ]
     },
     "execution_count": 6,
     "metadata": {},
     "output_type": "execute_result"
    }
   ],
   "source": [
    "motocikli['km'].mean()"
   ]
  },
  {
   "cell_type": "code",
   "execution_count": 7,
   "metadata": {
    "collapsed": false
   },
   "outputs": [
    {
     "data": {
      "text/plain": [
       "9724.170519774607"
      ]
     },
     "execution_count": 7,
     "metadata": {},
     "output_type": "execute_result"
    }
   ],
   "source": [
    "motocikli['cena'].mean()"
   ]
  },
  {
   "cell_type": "code",
   "execution_count": 42,
   "metadata": {
    "collapsed": false
   },
   "outputs": [
    {
     "data": {
      "text/plain": [
       "Naked Bike                      5127\n",
       "Chopper And Cruiser             3690\n",
       "Sports And Super Sports Bike    3488\n",
       "Enduro And Touring Enduro       2952\n",
       "Sport Touring Motorcycle        1935\n",
       "Tourer                          1173\n",
       "Super Moto                       624\n",
       "Name: tip, dtype: int64"
      ]
     },
     "execution_count": 42,
     "metadata": {},
     "output_type": "execute_result"
    }
   ],
   "source": [
    "motocikli['tip'].value_counts()"
   ]
  },
  {
   "cell_type": "code",
   "execution_count": 9,
   "metadata": {
    "collapsed": false
   },
   "outputs": [
    {
     "data": {
      "text/plain": [
       "80.23171309705619"
      ]
     },
     "execution_count": 9,
     "metadata": {},
     "output_type": "execute_result"
    }
   ],
   "source": [
    "motocikli['moc'].mean()"
   ]
  },
  {
   "cell_type": "markdown",
   "metadata": {},
   "source": [
    "Ker nam povprečne vrednosti povedo le zanimive in ne koristnih podatkov, si podatke poglejmo bolj podrobno."
   ]
  },
  {
   "cell_type": "markdown",
   "metadata": {},
   "source": [
    "Recimo, da kupujemo motocikel in bi radi svoj denar čim bolje izkoristili. Poglejmo si kako cena narašča oziroma pada glede na izbrane parametre."
   ]
  },
  {
   "cell_type": "markdown",
   "metadata": {},
   "source": [
    "Kateri tip motocikla je najcenejši?"
   ]
  },
  {
   "cell_type": "code",
   "execution_count": 48,
   "metadata": {
    "collapsed": false
   },
   "outputs": [
    {
     "data": {
      "text/html": [
       "<div>\n",
       "<table border=\"1\" class=\"dataframe\">\n",
       "  <thead>\n",
       "    <tr style=\"text-align: right;\">\n",
       "      <th></th>\n",
       "      <th>cena</th>\n",
       "    </tr>\n",
       "    <tr>\n",
       "      <th>tip</th>\n",
       "      <th></th>\n",
       "    </tr>\n",
       "  </thead>\n",
       "  <tbody>\n",
       "    <tr>\n",
       "      <th>Super Moto</th>\n",
       "      <td>6745.240385</td>\n",
       "    </tr>\n",
       "    <tr>\n",
       "      <th>Sport Touring Motorcycle</th>\n",
       "      <td>7515.635142</td>\n",
       "    </tr>\n",
       "    <tr>\n",
       "      <th>Naked Bike</th>\n",
       "      <td>7517.032768</td>\n",
       "    </tr>\n",
       "    <tr>\n",
       "      <th>Sports And Super Sports Bike</th>\n",
       "      <td>8735.399943</td>\n",
       "    </tr>\n",
       "    <tr>\n",
       "      <th>Enduro And Touring Enduro</th>\n",
       "      <td>10048.766260</td>\n",
       "    </tr>\n",
       "    <tr>\n",
       "      <th>Tourer</th>\n",
       "      <td>12605.537084</td>\n",
       "    </tr>\n",
       "    <tr>\n",
       "      <th>Chopper And Cruiser</th>\n",
       "      <td>14211.743902</td>\n",
       "    </tr>\n",
       "  </tbody>\n",
       "</table>\n",
       "</div>"
      ],
      "text/plain": [
       "                                      cena\n",
       "tip                                       \n",
       "Super Moto                     6745.240385\n",
       "Sport Touring Motorcycle       7515.635142\n",
       "Naked Bike                     7517.032768\n",
       "Sports And Super Sports Bike   8735.399943\n",
       "Enduro And Touring Enduro     10048.766260\n",
       "Tourer                        12605.537084\n",
       "Chopper And Cruiser           14211.743902"
      ]
     },
     "execution_count": 48,
     "metadata": {},
     "output_type": "execute_result"
    }
   ],
   "source": [
    "tipi = motocikli.groupby('tip').mean()\n",
    "pd.DataFrame(tipi['cena']).sort_values(['cena'])"
   ]
  },
  {
   "cell_type": "code",
   "execution_count": null,
   "metadata": {
    "collapsed": true
   },
   "outputs": [],
   "source": []
  }
 ],
 "metadata": {
  "anaconda-cloud": {},
  "kernelspec": {
   "display_name": "Python [default]",
   "language": "python",
   "name": "python3"
  },
  "language_info": {
   "codemirror_mode": {
    "name": "ipython",
    "version": 3
   },
   "file_extension": ".py",
   "mimetype": "text/x-python",
   "name": "python",
   "nbconvert_exporter": "python",
   "pygments_lexer": "ipython3",
   "version": "3.5.2"
  }
 },
 "nbformat": 4,
 "nbformat_minor": 1
}
