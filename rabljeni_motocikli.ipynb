{
 "cells": [
  {
   "cell_type": "markdown",
   "metadata": {},
   "source": [
    "# Rabljeni motocikli"
   ]
  },
  {
   "cell_type": "markdown",
   "metadata": {},
   "source": [
    "V nadaljevanju bom analizirala motocikle, ki se prodajajo na http://www.mobile.de. Izbrala sem le oglase rabljenih motociklov, mlajših od 10 let, ter s prostornino večjo od 500ccm."
   ]
  },
  {
   "cell_type": "code",
   "execution_count": 11,
   "metadata": {
    "collapsed": true
   },
   "outputs": [],
   "source": [
    "import pandas as pd"
   ]
  },
  {
   "cell_type": "code",
   "execution_count": 64,
   "metadata": {
    "collapsed": false
   },
   "outputs": [],
   "source": [
    "motocikli = pd.read_csv('motocikli.csv', index_col = 'id', encoding = 'latin1')\n",
    "pd.options.display.max_rows = 8"
   ]
  },
  {
   "cell_type": "markdown",
   "metadata": {},
   "source": [
    "### Razlaga zajetih podatkov\n",
    "\n",
    "- letnik: leto prve registracije motocikla, za katero bom privzela, da se ujema z letom izdelave\n",
    "- znamka: ime izdelovalca motocikla\n",
    "- tip: motocikli so na grobo razdeljeni v skupine glede na obliko in namen\n",
    "- prostornina: delovna prostornina pogonskega agregata\n",
    "- moc: moč pogonskega agregata izražena v kW\n",
    "- km: število prevoženih kilometrov\n",
    "- cena: cena motocikla, določena s strani prodajalca v evrih"
   ]
  },
  {
   "cell_type": "code",
   "execution_count": 65,
   "metadata": {
    "collapsed": false,
    "scrolled": true
   },
   "outputs": [
    {
     "data": {
      "text/html": [
       "<div>\n",
       "<table border=\"1\" class=\"dataframe\">\n",
       "  <thead>\n",
       "    <tr style=\"text-align: right;\">\n",
       "      <th></th>\n",
       "      <th>letnik</th>\n",
       "      <th>znamka</th>\n",
       "      <th>tip</th>\n",
       "      <th>prostornina</th>\n",
       "      <th>moc</th>\n",
       "      <th>km</th>\n",
       "      <th>cena</th>\n",
       "    </tr>\n",
       "    <tr>\n",
       "      <th>id</th>\n",
       "      <th></th>\n",
       "      <th></th>\n",
       "      <th></th>\n",
       "      <th></th>\n",
       "      <th></th>\n",
       "      <th></th>\n",
       "      <th></th>\n",
       "    </tr>\n",
       "  </thead>\n",
       "  <tbody>\n",
       "    <tr>\n",
       "      <th>234776213</th>\n",
       "      <td>2006</td>\n",
       "      <td>Hyosung</td>\n",
       "      <td>Chopper And Cruiser</td>\n",
       "      <td>650</td>\n",
       "      <td>55</td>\n",
       "      <td>17000</td>\n",
       "      <td>2800</td>\n",
       "    </tr>\n",
       "    <tr>\n",
       "      <th>234776213</th>\n",
       "      <td>2006</td>\n",
       "      <td>Hyosung</td>\n",
       "      <td>Chopper And Cruiser</td>\n",
       "      <td>647</td>\n",
       "      <td>59</td>\n",
       "      <td>3945</td>\n",
       "      <td>2999</td>\n",
       "    </tr>\n",
       "    <tr>\n",
       "      <th>234927975</th>\n",
       "      <td>2006</td>\n",
       "      <td>Harley-Davidson</td>\n",
       "      <td>Chopper And Cruiser</td>\n",
       "      <td>1449</td>\n",
       "      <td>47</td>\n",
       "      <td>28700</td>\n",
       "      <td>13500</td>\n",
       "    </tr>\n",
       "    <tr>\n",
       "      <th>222950115</th>\n",
       "      <td>2006</td>\n",
       "      <td>Yamaha</td>\n",
       "      <td>Chopper And Cruiser</td>\n",
       "      <td>1100</td>\n",
       "      <td>46</td>\n",
       "      <td>17999</td>\n",
       "      <td>7199</td>\n",
       "    </tr>\n",
       "    <tr>\n",
       "      <th>...</th>\n",
       "      <td>...</td>\n",
       "      <td>...</td>\n",
       "      <td>...</td>\n",
       "      <td>...</td>\n",
       "      <td>...</td>\n",
       "      <td>...</td>\n",
       "      <td>...</td>\n",
       "    </tr>\n",
       "    <tr>\n",
       "      <th>233584627</th>\n",
       "      <td>2016</td>\n",
       "      <td>Harley-Davidson</td>\n",
       "      <td>Tourer</td>\n",
       "      <td>1801</td>\n",
       "      <td>72</td>\n",
       "      <td>20</td>\n",
       "      <td>39900</td>\n",
       "    </tr>\n",
       "    <tr>\n",
       "      <th>233024236</th>\n",
       "      <td>2016</td>\n",
       "      <td>Harley-Davidson</td>\n",
       "      <td>Tourer</td>\n",
       "      <td>1801</td>\n",
       "      <td>72</td>\n",
       "      <td>800</td>\n",
       "      <td>39999</td>\n",
       "    </tr>\n",
       "    <tr>\n",
       "      <th>234506963</th>\n",
       "      <td>2016</td>\n",
       "      <td>Harley-Davidson</td>\n",
       "      <td>Tourer</td>\n",
       "      <td>1800</td>\n",
       "      <td>72</td>\n",
       "      <td>581</td>\n",
       "      <td>40990</td>\n",
       "    </tr>\n",
       "    <tr>\n",
       "      <th>234444194</th>\n",
       "      <td>2016</td>\n",
       "      <td>Harley-Davidson</td>\n",
       "      <td>Tourer</td>\n",
       "      <td>1690</td>\n",
       "      <td>64</td>\n",
       "      <td>900</td>\n",
       "      <td>59900</td>\n",
       "    </tr>\n",
       "  </tbody>\n",
       "</table>\n",
       "<p>19085 rows × 7 columns</p>\n",
       "</div>"
      ],
      "text/plain": [
       "           letnik           znamka                  tip  prostornina  moc  \\\n",
       "id                                                                          \n",
       "234776213    2006          Hyosung  Chopper And Cruiser          650   55   \n",
       "234776213    2006          Hyosung  Chopper And Cruiser          647   59   \n",
       "234927975    2006  Harley-Davidson  Chopper And Cruiser         1449   47   \n",
       "222950115    2006           Yamaha  Chopper And Cruiser         1100   46   \n",
       "...           ...              ...                  ...          ...  ...   \n",
       "233584627    2016  Harley-Davidson               Tourer         1801   72   \n",
       "233024236    2016  Harley-Davidson               Tourer         1801   72   \n",
       "234506963    2016  Harley-Davidson               Tourer         1800   72   \n",
       "234444194    2016  Harley-Davidson               Tourer         1690   64   \n",
       "\n",
       "              km   cena  \n",
       "id                       \n",
       "234776213  17000   2800  \n",
       "234776213   3945   2999  \n",
       "234927975  28700  13500  \n",
       "222950115  17999   7199  \n",
       "...          ...    ...  \n",
       "233584627     20  39900  \n",
       "233024236    800  39999  \n",
       "234506963    581  40990  \n",
       "234444194    900  59900  \n",
       "\n",
       "[19085 rows x 7 columns]"
      ]
     },
     "execution_count": 65,
     "metadata": {},
     "output_type": "execute_result"
    }
   ],
   "source": [
    "motocikli.dropna(how='any')"
   ]
  },
  {
   "cell_type": "markdown",
   "metadata": {},
   "source": [
    "Poglejmo najprej nekaj povprečnih rezultatov vseh oglasov."
   ]
  },
  {
   "cell_type": "code",
   "execution_count": 70,
   "metadata": {
    "collapsed": false
   },
   "outputs": [
    {
     "data": {
      "text/plain": [
       "BMW                3228\n",
       "Harley-Davidson    2562\n",
       "Kawasaki           2195\n",
       "Honda              2167\n",
       "                   ... \n",
       "SMC                   1\n",
       "Gasgas                1\n",
       "Derbi                 1\n",
       "Norton                1\n",
       "Name: znamka, dtype: int64"
      ]
     },
     "execution_count": 70,
     "metadata": {},
     "output_type": "execute_result"
    }
   ],
   "source": [
    "motocikli['znamka'].value_counts()"
   ]
  },
  {
   "cell_type": "code",
   "execution_count": 48,
   "metadata": {
    "collapsed": false
   },
   "outputs": [
    {
     "data": {
      "text/plain": [
       "2011.2973539428872"
      ]
     },
     "execution_count": 48,
     "metadata": {},
     "output_type": "execute_result"
    }
   ],
   "source": [
    "motocikli['letnik'].mean()"
   ]
  },
  {
   "cell_type": "code",
   "execution_count": 49,
   "metadata": {
    "collapsed": false
   },
   "outputs": [
    {
     "data": {
      "text/plain": [
       "15960.561330888133"
      ]
     },
     "execution_count": 49,
     "metadata": {},
     "output_type": "execute_result"
    }
   ],
   "source": [
    "motocikli['km'].mean()"
   ]
  },
  {
   "cell_type": "code",
   "execution_count": 51,
   "metadata": {
    "collapsed": false
   },
   "outputs": [
    {
     "data": {
      "text/plain": [
       "9665.163636363637"
      ]
     },
     "execution_count": 51,
     "metadata": {},
     "output_type": "execute_result"
    }
   ],
   "source": [
    "motocikli['cena'].mean()"
   ]
  },
  {
   "cell_type": "code",
   "execution_count": 53,
   "metadata": {
    "collapsed": false
   },
   "outputs": [
    {
     "data": {
      "text/plain": [
       "Naked Bike                      5095\n",
       "Chopper And Cruiser             3696\n",
       "Sports And Super Sports Bike    3545\n",
       "Enduro And Touring Enduro       2962\n",
       "Sport Touring Motorcycle        1973\n",
       "Tourer                          1167\n",
       "Super Moto                       647\n",
       "Name: tip, dtype: int64"
      ]
     },
     "execution_count": 53,
     "metadata": {},
     "output_type": "execute_result"
    }
   ],
   "source": [
    "motocikli['tip'].value_counts()"
   ]
  },
  {
   "cell_type": "code",
   "execution_count": 54,
   "metadata": {
    "collapsed": false
   },
   "outputs": [
    {
     "data": {
      "text/plain": [
       "79.99926643961226"
      ]
     },
     "execution_count": 54,
     "metadata": {},
     "output_type": "execute_result"
    }
   ],
   "source": [
    "motocikli['moc'].mean()"
   ]
  },
  {
   "cell_type": "markdown",
   "metadata": {},
   "source": [
    "Ker nam povprečne vrednosti povedo le zanimive in ne koristnih podatkov, si podatke poglejmo bolj podrobno."
   ]
  },
  {
   "cell_type": "markdown",
   "metadata": {},
   "source": [
    "Recimo, da kupujemo motocikel in bi radi svoj denar čim bolje izkoristili. Poglejmo si kako cena narašča oziroma pada glede na izbrane parametre."
   ]
  },
  {
   "cell_type": "code",
   "execution_count": null,
   "metadata": {
    "collapsed": true
   },
   "outputs": [],
   "source": []
  }
 ],
 "metadata": {
  "anaconda-cloud": {},
  "kernelspec": {
   "display_name": "Python [default]",
   "language": "python",
   "name": "python3"
  },
  "language_info": {
   "codemirror_mode": {
    "name": "ipython",
    "version": 3
   },
   "file_extension": ".py",
   "mimetype": "text/x-python",
   "name": "python",
   "nbconvert_exporter": "python",
   "pygments_lexer": "ipython3",
   "version": "3.5.2"
  }
 },
 "nbformat": 4,
 "nbformat_minor": 1
}
